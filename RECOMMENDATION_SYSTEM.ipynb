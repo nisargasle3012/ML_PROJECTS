{
  "cells": [
    {
      "cell_type": "code",
      "source": [
        "import numpy as np\n",
        "import pandas as pd\n",
        "from sklearn.feature_extraction.text import TfidfVectorizer\n",
        "from sklearn.metrics.pairwise import cosine_similarity\n",
        "import ast\n",
        "import pickle\n",
        "\n",
        "# Load and merge datasets\n",
        "movies = pd.read_csv('/tmdb_5000_movies.csv')\n",
        "credits = pd.read_csv('/tmdb_5000_credits.csv')\n",
        "movies = movies.merge(credits, on='title')\n",
        "movies = movies[['movie_id', 'title', 'overview', 'genres', 'keywords', 'cast', 'crew']]\n",
        "movies.dropna(inplace=True)\n",
        "\n",
        "# Helper function to extract names from JSON-like fields\n",
        "def convert(text):\n",
        "    L = []\n",
        "    for i in ast.literal_eval(text):\n",
        "        L.append(i['name'])\n",
        "    return L\n",
        "\n",
        "# Apply the convert function to necessary columns\n",
        "movies['genres'] = movies['genres'].apply(convert)\n",
        "movies['keywords'] = movies['keywords'].apply(convert)\n",
        "movies['cast'] = movies['cast'].apply(convert).apply(lambda x: x[:3])  # Take top 3 cast members\n",
        "\n",
        "# Extract director's name from the crew\n",
        "def fetch_director(text):\n",
        "    L = []\n",
        "    for i in ast.literal_eval(text):\n",
        "        if i['job'] == 'Director':\n",
        "            L.append(i['name'])\n",
        "    return L\n",
        "\n",
        "movies['crew'] = movies['crew'].apply(fetch_director)\n",
        "\n",
        "# Remove spaces within names to create single tokens\n",
        "def collapse(L):\n",
        "    return [i.replace(\" \", \"\") for i in L]\n",
        "\n",
        "movies['cast'] = movies['cast'].apply(collapse)\n",
        "movies['crew'] = movies['crew'].apply(collapse)\n",
        "movies['genres'] = movies['genres'].apply(collapse)\n",
        "movies['keywords'] = movies['keywords'].apply(collapse)\n",
        "\n",
        "# Create 'tags' by combining relevant features, giving more weight to 'genres' and 'keywords'\n",
        "movies['overview'] = movies['overview'].apply(lambda x: x.split())\n",
        "movies['tags'] = (movies['overview']*5) + (movies['genres'] * 2) + (movies['keywords'] * 3) + (movies['cast']) + (movies['crew']*3)\n",
        "new = movies.drop(columns=['overview', 'genres', 'keywords', 'cast', 'crew'])\n",
        "new['tags'] = new['tags'].apply(lambda x: \" \".join(x))\n",
        "\n",
        "# Use TF-IDF Vectorizer instead of Count Vectorizer\n",
        "tfidf = TfidfVectorizer(max_features=10000, stop_words='english')\n",
        "vector = tfidf.fit_transform(new['tags']).toarray()\n",
        "\n",
        "# Calculate cosine similarity\n",
        "similarity = cosine_similarity(vector)\n",
        "\n",
        "# Save the processed data and similarity matrix for later use\n",
        "pickle.dump(new, open('movie_list.pkl', 'wb'))\n",
        "pickle.dump(similarity, open('similarity.pkl', 'wb'))\n",
        "\n",
        "# Recommendation function with additional details\n",
        "def recommend(movie):\n",
        "    if movie not in new['title'].values:\n",
        "        print(f\"Movie '{movie}' not found in the dataset.\")\n",
        "        return\n",
        "\n",
        "    index = new[new['title'] == movie].index[0]\n",
        "    distances = sorted(list(enumerate(similarity[index])), reverse=True, key=lambda x: x[1])\n",
        "\n",
        "    print(f\"Movies recommended for '{movie}':\\n\")\n",
        "    for i in distances[1:6]:\n",
        "        title = new.iloc[i[0]].title\n",
        "        genres = \", \".join(movies.iloc[i[0]]['genres'])\n",
        "        print(f\"{title} (Genres: {genres})\")"
      ],
      "metadata": {
        "id": "h9InQ9pqjWwx"
      },
      "execution_count": 244,
      "outputs": []
    },
    {
      "cell_type": "code",
      "source": [
        "recommend(\"Harry Potter and the Philosopher's Stone\")"
      ],
      "metadata": {
        "colab": {
          "base_uri": "https://localhost:8080/"
        },
        "id": "AWzF5nu2qblo",
        "outputId": "a4a9690b-054d-4241-9f16-8ca0250f1d22"
      },
      "execution_count": 246,
      "outputs": [
        {
          "output_type": "stream",
          "name": "stdout",
          "text": [
            "Movies recommended for 'Harry Potter and the Philosopher's Stone':\n",
            "\n",
            "Harry Potter and the Goblet of Fire (Genres: Adventure, Fantasy, Family)\n",
            "Harry Potter and the Prisoner of Azkaban (Genres: Adventure, Fantasy, Family)\n",
            "Harry Potter and the Chamber of Secrets (Genres: Adventure, Fantasy, Family)\n",
            "Harry Potter and the Order of the Phoenix (Genres: Adventure, Fantasy, Family, Mystery)\n",
            "Harry Potter and the Half-Blood Prince (Genres: Adventure, Fantasy, Family)\n"
          ]
        }
      ]
    }
  ],
  "metadata": {
    "kernelspec": {
      "display_name": "Python 3",
      "language": "python",
      "name": "python3"
    },
    "language_info": {
      "codemirror_mode": {
        "name": "ipython",
        "version": 3
      },
      "file_extension": ".py",
      "mimetype": "text/x-python",
      "name": "python",
      "nbconvert_exporter": "python",
      "pygments_lexer": "ipython3",
      "version": "3.13.0"
    },
    "colab": {
      "provenance": []
    }
  },
  "nbformat": 4,
  "nbformat_minor": 0
}